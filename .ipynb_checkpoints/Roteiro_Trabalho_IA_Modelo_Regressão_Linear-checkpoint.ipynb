{
 "cells": [
  {
   "cell_type": "markdown",
   "metadata": {
    "id": "KT0-Qo18hVLV"
   },
   "source": [
    "# Trabalho de IA - Modelo de Regressão Linear\n",
    "Neste trabalho, vamos treinar um modelo de machine leaning de regressão linear para predição de valores contínuos.\n",
    "\n",
    "# Entrega até:  31/08/2023\n",
    "Clicar em compartilhar no canto superior direito, liberar o acesso a qualquer pessoa com o link e em seguida copiar o link do colab e enviar para o e-mail do professor: daniloz.fig@gmail.com\n",
    "\n",
    "![colab_link.png](data:image/png;base64,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)\n",
    "\n",
    "# Componentes do Grupo:\n",
    "\n",
    "\n",
    "*   Aluno 1\n",
    "*   Aluno 2\n",
    "*   Aluno 3\n",
    "*   Aluno 4\n",
    "*   Aluno 5\n",
    "*   Aluno 6\n",
    "\n",
    "*Nome do Dataset:*"
   ]
  },
  {
   "cell_type": "markdown",
   "metadata": {
    "id": "S22USP8hRqq3"
   },
   "source": [
    "# Importando as bibliotecas"
   ]
  },
  {
   "cell_type": "code",
   "execution_count": 1,
   "metadata": {
    "id": "7Uv0As_YhQgq"
   },
   "outputs": [],
   "source": [
    "from matplotlib import pyplot as plt\n",
    "import pandas as pd\n",
    "import numpy as np\n",
    "from sklearn import linear_model\n",
    "from sklearn.metrics import r2_score, mean_squared_error, mean_absolute_error\n",
    "from sklearn.model_selection import train_test_split\n",
    "from math import sqrt"
   ]
  },
  {
   "cell_type": "markdown",
   "metadata": {
    "id": "XqkJ4XAAi1gW"
   },
   "source": [
    "#Carregando o dataset para um Dataframe (Pandas)"
   ]
  },
  {
   "cell_type": "code",
   "execution_count": 6,
   "metadata": {
    "id": "KmXx30U5i8tz"
   },
   "outputs": [
    {
     "name": "stdout",
     "output_type": "stream",
     "text": [
      "--2023-08-26 02:18:05--  https://raw.githubusercontent.com/aejunior/bsi-ia/master/kc_house_data.csv\n",
      "Resolving raw.githubusercontent.com (raw.githubusercontent.com)... 185.199.108.133, 185.199.109.133, 185.199.110.133, ...\n",
      "Connecting to raw.githubusercontent.com (raw.githubusercontent.com)|185.199.108.133|:443... connected.\n",
      "HTTP request sent, awaiting response... 200 OK\n",
      "Length: 2515206 (2.4M) [text/plain]\n",
      "Saving to: ‘dataset.csv’\n",
      "\n",
      "dataset.csv         100%[===================>]   2.40M  4.74MB/s    in 0.5s    \n",
      "\n",
      "2023-08-26 02:18:06 (4.74 MB/s) - ‘dataset.csv’ saved [2515206/2515206]\n",
      "\n"
     ]
    },
    {
     "ename": "NameError",
     "evalue": "name 'df' is not defined",
     "output_type": "error",
     "traceback": [
      "\u001b[0;31m---------------------------------------------------------------------------\u001b[0m",
      "\u001b[0;31mNameError\u001b[0m                                 Traceback (most recent call last)",
      "Cell \u001b[0;32mIn[6], line 20\u001b[0m\n\u001b[1;32m      1\u001b[0m get_ipython()\u001b[38;5;241m.\u001b[39msystem(\u001b[38;5;124m'\u001b[39m\u001b[38;5;124mwget  https://raw.githubusercontent.com/aejunior/bsi-ia/master/kc_house_data.csv -O dataset.csv\u001b[39m\u001b[38;5;124m'\u001b[39m)\n\u001b[1;32m      3\u001b[0m \u001b[38;5;66;03m# curl -o filename.txt https://reqbin.com/echo\u001b[39;00m\n\u001b[1;32m      4\u001b[0m \u001b[38;5;66;03m# Criar um dataset chamado 'df' que receberá os dados do csv\u001b[39;00m\n\u001b[1;32m      5\u001b[0m \u001b[38;5;66;03m# ------------------------------------------------------------------------------------------------------------\u001b[39;00m\n\u001b[0;32m   (...)\u001b[0m\n\u001b[1;32m     17\u001b[0m \u001b[38;5;66;03m# df = pd.read_csv(\"xxxxxxxxxxxxxx.csv\")\u001b[39;00m\n\u001b[1;32m     18\u001b[0m \u001b[38;5;66;03m# ------------------------------------------------------------------------------------------------------------\u001b[39;00m\n\u001b[0;32m---> 20\u001b[0m df \u001b[38;5;241m=\u001b[39m \u001b[43mdf\u001b[49m\u001b[38;5;241m.\u001b[39mdropna() \u001b[38;5;66;03m# elimina as linhas com valores nulos (NaN)\u001b[39;00m\n\u001b[1;32m     21\u001b[0m \u001b[38;5;66;03m# df = df.loc[~(df == 0).any(axis=1)] # elimina as linhas em que houver ao menor um valor igual a ZERO\u001b[39;00m\n\u001b[1;32m     22\u001b[0m \n\u001b[1;32m     23\u001b[0m \u001b[38;5;66;03m#EXIBE A ESTRUTURA DO DATAFRAME\u001b[39;00m\n\u001b[1;32m     24\u001b[0m \u001b[38;5;28mprint\u001b[39m(df\u001b[38;5;241m.\u001b[39mhead())\n",
      "\u001b[0;31mNameError\u001b[0m: name 'df' is not defined"
     ]
    }
   ],
   "source": [
    "# Criar um dataset chamado 'df' que receberá os dados do csv\n",
    "# ------------------------------------------------------------------------------------------------------------\n",
    "\n",
    "# df = pd.read_csv(\"xxxxxxxxxxxx.csv\") # Carrega o dataset CSV se este já estiver salvo no DISCO DO COLAB).\n",
    "# ------------------------------------------------------------------------------------------------------------\n",
    "\n",
    "# Se o arquivo estiver no google drive, use as linhas abaixo:\n",
    "# from google.colab import drive\n",
    "# drive.mount('/content/drive')\n",
    "\n",
    "# Em seguida insira o caminho correto para o arquivo CSV do dataset a partir de My Drive/...\n",
    "#%cd /content/drive/MyDrive/\n",
    "# %cd /content/drive/MyDrive/Colab Notebooks/datasets/\n",
    "!wget https://raw.githubusercontent.com/aejunior/bsi-ia/master/kc_house_data.csv -O dataset.csv\n",
    "df = pd.read_csv(\"dataset.csv\")\n",
    "# ------------------------------------------------------------------------------------------------------------\n",
    "\n",
    "df = df.dropna() # elimina as linhas com valores nulos (NaN)\n",
    "# df = df.loc[~(df == 0).any(axis=1)] # elimina as linhas em que houver ao menor um valor igual a ZERO\n",
    "\n",
    "#EXIBE A ESTRUTURA DO DATAFRAME\n",
    "print(df.head())"
   ]
  },
  {
   "cell_type": "markdown",
   "metadata": {
    "id": "ZF0DXy89jJHy"
   },
   "source": [
    "# Exibe o resumo do Dataset"
   ]
  },
  {
   "cell_type": "code",
   "execution_count": null,
   "metadata": {
    "id": "h8g2qZdPjTXW"
   },
   "outputs": [],
   "source": [
    "print(df.describe())"
   ]
  },
  {
   "cell_type": "markdown",
   "metadata": {
    "id": "UqHW1fhOjVsT"
   },
   "source": [
    "# Selecionar apenas as DUAS features (colunas) que você irá correlacionar."
   ]
  },
  {
   "cell_type": "code",
   "execution_count": null,
   "metadata": {
    "id": "bt_r3MUxjfDZ"
   },
   "outputs": [],
   "source": [
    "feature1 =  df[['']] # Variável independente\n",
    "feature2 = df[['']] # Variável dependente"
   ]
  },
  {
   "cell_type": "code",
   "execution_count": null,
   "metadata": {
    "id": "thlqNAcZNCL4"
   },
   "outputs": [],
   "source": [
    "print(feature1.head())"
   ]
  },
  {
   "cell_type": "code",
   "execution_count": null,
   "metadata": {
    "id": "u9-iLH30rAJ5"
   },
   "outputs": [],
   "source": [
    "print(feature2.head())"
   ]
  },
  {
   "cell_type": "markdown",
   "metadata": {
    "id": "hr9S-RPQjkCc"
   },
   "source": [
    "#Dividir o dataset em dados de treinamento e dados de teste\n",
    "Neste caso vamos usar o train_test_split do scikitlearn\n",
    "\n",
    "ATENÇÃO: Como requisito para o trabalho, você deve dividir o dataset em três momentos e obter a métrica de desempenho para cada vez.\n",
    "\n",
    "\n",
    "\n",
    "*   1º momento, para test_size = 0.2\n",
    "*   2º momento, para test_size = 0.3\n",
    "*   3º momento, para test_size = 0.4\n"
   ]
  },
  {
   "cell_type": "code",
   "execution_count": null,
   "metadata": {
    "id": "aiY_y4rqkFYQ"
   },
   "outputs": [],
   "source": [
    "feature1_treino, feature1_test, feature2_treino, feature2_teste = train_test_split(feature1, feature2, test_size=0.4, random_state=42)\n",
    "print(type(feature1_treino)) # mostra o tipo do objeto (dataframe)\n",
    "print(type(feature2_treino))"
   ]
  },
  {
   "cell_type": "markdown",
   "metadata": {
    "id": "qwQukeUilsPS"
   },
   "source": [
    "#Exibir a correlação entre as features do dataset de treinamento (**antes do treinamento**)"
   ]
  },
  {
   "cell_type": "code",
   "execution_count": null,
   "metadata": {
    "id": "vqji1KAElvcC"
   },
   "outputs": [],
   "source": [
    "plt.scatter(feature1_treino, feature2_treino, color='blue')\n",
    "plt.xlabel(\"Nome da variável X\") # legenda para a feature de treino 1\n",
    "plt.ylabel(\"Nome da variável Y\") # legenda para a feature de treino 2\n",
    "plt.show()"
   ]
  },
  {
   "cell_type": "markdown",
   "metadata": {
    "id": "xfpFTpMbmMDs"
   },
   "source": [
    "# Vamos treinar o modelo de regressão linear"
   ]
  },
  {
   "cell_type": "code",
   "execution_count": null,
   "metadata": {
    "id": "0RgpECLrmQZD"
   },
   "outputs": [],
   "source": [
    "# CRIAR UM MODELO DE TIPO DE REGRESSÃO LINEAR\n",
    "modelo =  linear_model.LinearRegression()\n",
    "\n",
    "# TREINAR O MODELO USANDO O DATASET DE TREINO\n",
    "# PARA ENCONTRAR O VALOR DE A E B (Y = A + B.X)\n",
    "modelo.fit(feature1_treino, feature2_treino)\n"
   ]
  },
  {
   "cell_type": "markdown",
   "metadata": {
    "id": "MSZI8DZBncpG"
   },
   "source": [
    "#Exibir os coeficientes (A e B)"
   ]
  },
  {
   "cell_type": "code",
   "execution_count": null,
   "metadata": {
    "id": "ECiq3FX9ngC7"
   },
   "outputs": [],
   "source": [
    "print('(A) Intercepto: ', modelo.intercept_)\n",
    "print('(B) Inclinação: ', modelo.coef_)"
   ]
  },
  {
   "cell_type": "markdown",
   "metadata": {
    "id": "aEide4fUn5Rn"
   },
   "source": [
    "# Vamos exibir a nossa reta de regressão no dataset de treino (**após o treinamento**)"
   ]
  },
  {
   "cell_type": "code",
   "execution_count": null,
   "metadata": {
    "id": "85BXAC8jns3n"
   },
   "outputs": [],
   "source": [
    "plt.scatter(feature1_treino, feature2_treino, color='blue')\n",
    "plt.plot(feature1_treino, modelo.coef_[0][0]*feature1_treino + modelo.intercept_[0], '-r')\n",
    "plt.xlabel(\"Nome da variável X\") # legenda para a feature de treino 1\n",
    "plt.ylabel(\"Nome da variável Y\") # legenda para a feature de treino 2\n",
    "plt.show()"
   ]
  },
  {
   "cell_type": "markdown",
   "metadata": {
    "id": "1PXAj3mIoXyP"
   },
   "source": [
    "# Vamos executar o nosso modelo no dataset de teste"
   ]
  },
  {
   "cell_type": "code",
   "execution_count": null,
   "metadata": {
    "id": "s03hwwgRodGN"
   },
   "outputs": [],
   "source": [
    "#Primeiro a gente tem que fazer as predições usando o modelo e base de teste\n",
    "predicoes_feature2 = modelo.predict(feature1_test)"
   ]
  },
  {
   "cell_type": "markdown",
   "metadata": {
    "id": "J6pizEb_S-OQ"
   },
   "source": [
    "# Vamos exibir a nossa reta de regressão no dataset de teste"
   ]
  },
  {
   "cell_type": "code",
   "execution_count": null,
   "metadata": {
    "id": "AUJesd2PS_ni"
   },
   "outputs": [],
   "source": [
    "plt.scatter(feature1_test, feature2_teste, color='blue')\n",
    "plt.plot(feature1_test, modelo.coef_[0][0]*feature1_test + modelo.intercept_[0], '-r')\n",
    "plt.xlabel(\"Nome da variável X\") # legenda para a feature de teste 1\n",
    "plt.ylabel(\"Nome da variável Y\") # legenda para a feature de teste 2\n",
    "plt.show()"
   ]
  },
  {
   "cell_type": "markdown",
   "metadata": {
    "id": "WHfWOs27Szxx"
   },
   "source": [
    "# Vamos avaliar o modelo"
   ]
  },
  {
   "cell_type": "code",
   "execution_count": null,
   "metadata": {
    "id": "mf5viRxsS3zv"
   },
   "outputs": [],
   "source": [
    "#Agora é mostrar as métricas\n",
    "print(\"Soma dos Erros ao Quadrado (SSE): %2.f \" % np.sum((predicoes_feature2 - feature2_teste)**2))\n",
    "print(\"Erro Quadrático Médio (MSE): %.2f\" % mean_squared_error(feature2_teste, predicoes_feature2))\n",
    "print(\"Erro Médio Absoluto (MAE): %.2f\" % mean_absolute_error(feature2_teste, predicoes_feature2))\n",
    "print(\"Raiz do Erro Quadrático Médio (RMSE): %.2f \" % sqrt(mean_squared_error(feature2_teste, predicoes_feature2)))\n",
    "print(\"R2-score: %.2f\" % r2_score(predicoes_feature2 , feature2_teste) )"
   ]
  },
  {
   "cell_type": "markdown",
   "metadata": {
    "id": "dBA4Niy1f-mF"
   },
   "source": [
    "# Responda:\n",
    "\n",
    "1. Qual o tipo de correlação entre as features escolhidas (negativa, positiva ou nula)?\tE explique o que isso significa com base nas suas features escolhidas.\n",
    "2. Após realizar o treinamento três vezes como solicitado (test_size = 0.2, 0.3, 0.4), informe quais são os três valores obtidos para a sua métrica de desempenho definida.\n",
    "3. Escreva a equação linear do estimador do modelo y = a + bx para cada momento.\n",
    "\n",
    "\n"
   ]
  },
  {
   "cell_type": "markdown",
   "metadata": {
    "id": "4pIMk2bNh7CZ"
   },
   "source": [
    "# Respostas:\n",
    "\n",
    "1.   ...\n",
    "2.   ...\n",
    "3.   ...\n",
    "\n"
   ]
  },
  {
   "cell_type": "code",
   "execution_count": null,
   "metadata": {},
   "outputs": [],
   "source": []
  }
 ],
 "metadata": {
  "colab": {
   "provenance": []
  },
  "kernelspec": {
   "display_name": "Python 3 (ipykernel)",
   "language": "python",
   "name": "python3"
  },
  "language_info": {
   "codemirror_mode": {
    "name": "ipython",
    "version": 3
   },
   "file_extension": ".py",
   "mimetype": "text/x-python",
   "name": "python",
   "nbconvert_exporter": "python",
   "pygments_lexer": "ipython3",
   "version": "3.11.4"
  }
 },
 "nbformat": 4,
 "nbformat_minor": 4
}
